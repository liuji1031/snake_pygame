{
 "cells": [
  {
   "cell_type": "code",
   "execution_count": 4,
   "metadata": {},
   "outputs": [
    {
     "data": {
      "text/plain": [
       "(5, 0)"
      ]
     },
     "execution_count": 4,
     "metadata": {},
     "output_type": "execute_result"
    }
   ],
   "source": [
    "import pygame\n",
    "from pygame.locals import (\n",
    "    K_UP,\n",
    "    K_DOWN,\n",
    "    K_LEFT,\n",
    "    K_RIGHT,\n",
    "    K_ESCAPE,\n",
    "    KEYDOWN,\n",
    "    QUIT,\n",
    ")\n",
    "pygame.init()"
   ]
  },
  {
   "cell_type": "code",
   "execution_count": 12,
   "metadata": {},
   "outputs": [],
   "source": [
    "class Node(pygame.sprite.Sprite):\n",
    "    COLOR_INIT = (100,100,100)\n",
    "    COLOR_CONNECTED = (0,255,0)\n",
    "    WHITE = (255,255,255)\n",
    "    def __init__(self, x=0, y=0,radius=10):\n",
    "        super().__init__()\n",
    "        self.surf = pygame.Surface([radius*2, radius*2])\n",
    "        self.surf.fill(Node.WHITE)\n",
    "        self.surf.set_colorkey(Node.WHITE)\n",
    "        pygame.draw.circle(surface=self.surf,\n",
    "            color=self.COLOR_INIT,center=(radius, radius),radius=radius)\n",
    "        self.rect = self.surf.get_rect()\n",
    "        self.rect.x = x\n",
    "        self.rect.y = y\n",
    "\n",
    "    def update(self):\n",
    "        pass"
   ]
  },
  {
   "cell_type": "code",
   "execution_count": 16,
   "metadata": {},
   "outputs": [],
   "source": [
    "# Set up the drawing window\n",
    "WIDTH = 500\n",
    "HEIGHT = 500\n",
    "screen = pygame.display.set_mode([WIDTH, HEIGHT])\n",
    "screen.fill((255, 255, 255))\n",
    "clock = pygame.time.Clock()\n",
    "node1 = Node()\n",
    "\n",
    "running = True\n",
    "\n",
    "# Main loop\n",
    "while running:\n",
    "    # Look at every event in the queue\n",
    "    for event in pygame.event.get():\n",
    "        # Did the user hit a key?\n",
    "        if event.type == KEYDOWN:\n",
    "            # Was it the Escape key? If so  , stop the loop.\n",
    "            if event.key == K_ESCAPE:\n",
    "                running = False\n",
    "\n",
    "        # Did the user click the window close button? If so, stop the loop.\n",
    "        elif event.type == QUIT:\n",
    "            running = False\n",
    "\n",
    "        screen.blit(node1.surf, node1.rect)\n",
    "        pygame.display.flip()\n",
    "        clock.tick(30)\n",
    "\n",
    "pygame.quit()"
   ]
  }
 ],
 "metadata": {
  "kernelspec": {
   "display_name": "pygame",
   "language": "python",
   "name": "python3"
  },
  "language_info": {
   "codemirror_mode": {
    "name": "ipython",
    "version": 3
   },
   "file_extension": ".py",
   "mimetype": "text/x-python",
   "name": "python",
   "nbconvert_exporter": "python",
   "pygments_lexer": "ipython3",
   "version": "3.12.5"
  }
 },
 "nbformat": 4,
 "nbformat_minor": 2
}
